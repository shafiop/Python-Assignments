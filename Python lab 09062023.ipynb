{
 "cells": [
  {
   "cell_type": "code",
   "execution_count": 1,
   "id": "d9ddea0f",
   "metadata": {},
   "outputs": [],
   "source": [
    "#Write a Python program to multiply all the items in a list."
   ]
  },
  {
   "cell_type": "code",
   "execution_count": 6,
   "id": "3e154b46",
   "metadata": {},
   "outputs": [],
   "source": [
    "def multi(List):\n",
    "    \n",
    "    M=1\n",
    "    for i in List:\n",
    "        M= M*i\n",
    "    \n",
    "    return M"
   ]
  },
  {
   "cell_type": "code",
   "execution_count": 7,
   "id": "43a80dc6",
   "metadata": {},
   "outputs": [
    {
     "data": {
      "text/plain": [
       "506971483200"
      ]
     },
     "execution_count": 7,
     "metadata": {},
     "output_type": "execute_result"
    }
   ],
   "source": [
    "L1=[78,56,89,23,12,5,3,45,7]\n",
    "multi(L1)"
   ]
  },
  {
   "cell_type": "code",
   "execution_count": 9,
   "id": "2707b742",
   "metadata": {},
   "outputs": [],
   "source": [
    "def large(List):\n",
    "    \n",
    "    S=0\n",
    "    for i in List:\n",
    "        if i > S:\n",
    "            S=i\n",
    "            \n",
    "    return S"
   ]
  },
  {
   "cell_type": "code",
   "execution_count": 10,
   "id": "4eb27478",
   "metadata": {},
   "outputs": [
    {
     "data": {
      "text/plain": [
       "102"
      ]
     },
     "execution_count": 10,
     "metadata": {},
     "output_type": "execute_result"
    }
   ],
   "source": [
    "L1=[58,49,98,2,49,102,76]\n",
    "large(L1)"
   ]
  },
  {
   "cell_type": "code",
   "execution_count": null,
   "id": "8232f8d6",
   "metadata": {},
   "outputs": [],
   "source": []
  }
 ],
 "metadata": {
  "kernelspec": {
   "display_name": "Python 3 (ipykernel)",
   "language": "python",
   "name": "python3"
  },
  "language_info": {
   "codemirror_mode": {
    "name": "ipython",
    "version": 3
   },
   "file_extension": ".py",
   "mimetype": "text/x-python",
   "name": "python",
   "nbconvert_exporter": "python",
   "pygments_lexer": "ipython3",
   "version": "3.9.13"
  }
 },
 "nbformat": 4,
 "nbformat_minor": 5
}
