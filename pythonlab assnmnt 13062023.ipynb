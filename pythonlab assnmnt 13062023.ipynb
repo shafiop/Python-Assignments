{
 "cells": [
  {
   "cell_type": "code",
   "execution_count": 1,
   "id": "190b4298",
   "metadata": {},
   "outputs": [
    {
     "name": "stdout",
     "output_type": "stream",
     "text": [
      "20\n"
     ]
    }
   ],
   "source": [
    "def sum_numbers(numbers):\n",
    "    total = sum(numbers)\n",
    "    return total\n",
    "numbers = (8, 2, 3, 0, 7)\n",
    "result = sum_numbers(numbers)\n",
    "print(result)"
   ]
  },
  {
   "cell_type": "code",
   "execution_count": 9,
   "id": "c9324c0b",
   "metadata": {},
   "outputs": [
    {
     "name": "stdout",
     "output_type": "stream",
     "text": [
      "20\n",
      "21\n"
     ]
    }
   ],
   "source": [
    "def sum1(L1):\n",
    "    add=0\n",
    "\n",
    "    \n",
    "    for i in L1:\n",
    "        add = add + i\n",
    "        \n",
    "\n",
    "    return add\n",
    "\n",
    "print(sum1([8,2,3,0,7]))\n",
    "print(sum1([7,6,8]))"
   ]
  },
  {
   "cell_type": "code",
   "execution_count": 13,
   "id": "386891bb",
   "metadata": {},
   "outputs": [
    {
     "name": "stdout",
     "output_type": "stream",
     "text": [
      "-336\n"
     ]
    }
   ],
   "source": [
    "def pdt(L1):\n",
    "    multi=1\n",
    "    for i in L1:\n",
    "        multi = multi*i\n",
    "    return multi\n",
    "print(pdt((8,2,3,-1,7)))\n",
    "    "
   ]
  },
  {
   "cell_type": "code",
   "execution_count": 3,
   "id": "5f3ba708",
   "metadata": {},
   "outputs": [
    {
     "data": {
      "text/plain": [
       "[[2, 6, 8], [7, 11, 15], [4, 7, 11]]"
      ]
     },
     "execution_count": 3,
     "metadata": {},
     "output_type": "execute_result"
    }
   ],
   "source": [
    "def factorial(n):\n",
    "    "
   ]
  },
  {
   "cell_type": "code",
   "execution_count": 17,
   "id": "f0e25029",
   "metadata": {},
   "outputs": [
    {
     "name": "stdout",
     "output_type": "stream",
     "text": [
      "upper case characters: 8\n",
      "lower case characters: 10\n"
     ]
    }
   ],
   "source": [
    "def count_case(str1):\n",
    "    d={'uppercase':0 , 'lowercase':0}\n",
    "    for i in str1:\n",
    "        if i.isupper():\n",
    "            d['uppercase']+=1\n",
    "        elif i.islower():\n",
    "            d['lowercase']+=1\n",
    "        else:\n",
    "         pass\n",
    "    print('upper case characters:',d['uppercase'])\n",
    "    print('lower case characters:',d['lowercase'])\n",
    "count_case('Abel mOIDeen FateMAH')"
   ]
  },
  {
   "cell_type": "code",
   "execution_count": null,
   "id": "b2a4ddfc",
   "metadata": {},
   "outputs": [],
   "source": []
  }
 ],
 "metadata": {
  "kernelspec": {
   "display_name": "Python 3 (ipykernel)",
   "language": "python",
   "name": "python3"
  },
  "language_info": {
   "codemirror_mode": {
    "name": "ipython",
    "version": 3
   },
   "file_extension": ".py",
   "mimetype": "text/x-python",
   "name": "python",
   "nbconvert_exporter": "python",
   "pygments_lexer": "ipython3",
   "version": "3.10.9"
  }
 },
 "nbformat": 4,
 "nbformat_minor": 5
}
