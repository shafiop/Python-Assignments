{
 "cells": [
  {
   "cell_type": "code",
   "execution_count": 1,
   "id": "756e95a2",
   "metadata": {},
   "outputs": [
    {
     "data": {
      "text/plain": [
       "[[2, 6, 8], [7, 11, 15], [4, 7, 11]]"
      ]
     },
     "execution_count": 1,
     "metadata": {},
     "output_type": "execute_result"
    }
   ],
   "source": [
    "X = [[1, 2, 3], [4, 5, 6], [2, 4, 6]]\n",
    "Y = [[1, 4, 5], [3, 6, 9], [2, 3, 5]]\n",
    "\n",
    "\n",
    "result = [[0, 0, 0], [0, 0, 0], [0, 0, 0]]\n",
    "R1=len(X)\n",
    "R2=len(X[0])\n",
    "\n",
    "for i in range(R1):\n",
    "    for j in range(R2):\n",
    "        result[i][j]=X[i][j] + Y[i][j]\n",
    "        \n",
    "result"
   ]
  },
  {
   "cell_type": "code",
   "execution_count": 2,
   "id": "d5a8423f",
   "metadata": {},
   "outputs": [
    {
     "name": "stdout",
     "output_type": "stream",
     "text": [
      "Transpose of X:\n",
      "[1, 2, 2]\n",
      "[4, 3, 4]\n",
      "[7, 5, 6]\n",
      "Transpose of Y:\n",
      "[1, 3, 2]\n",
      "[4, 6, 3]\n",
      "[5, 9, 5]\n"
     ]
    }
   ],
   "source": [
    "X = [[1, 4, 7], [2, 3, 5], [2, 4, 6]]\n",
    "Y = [[1, 4, 5], [3, 6, 9], [2, 3, 5]]\n",
    "\n",
    "\n",
    "result_X = [[0, 0, 0], [0, 0, 0], [0, 0, 0]]\n",
    "result_Y = [[0, 0, 0], [0, 0, 0], [0, 0, 0]]\n",
    "\n",
    "# Transpose matrix X\n",
    "for i in range(len(X)): # 0 1 2 \n",
    "    for j in range(len(X[0])): #list count\n",
    "        result_X[j][i] = X[i][j]\n",
    "\n",
    "# Transpose matrix Y\n",
    "for i in range(len(Y)):\n",
    "    for j in range(len(Y[0])):\n",
    "        result_Y[j][i] = Y[i][j]\n",
    "\n",
    "# Print the transposed matrices\n",
    "print(\"Transpose of X:\")\n",
    "for k in result_X:\n",
    "    print(k)\n",
    "\n",
    "print(\"Transpose of Y:\")\n",
    "for k in result_Y:\n",
    "    print(k)"
   ]
  },
  {
   "cell_type": "code",
   "execution_count": 3,
   "id": "1917e519",
   "metadata": {},
   "outputs": [
    {
     "name": "stdout",
     "output_type": "stream",
     "text": [
      "[13, 25, 38, 15]\n",
      "[31, 64, 95, 39]\n",
      "[26, 50, 76, 30]\n"
     ]
    }
   ],
   "source": [
    "X = [[1, 2, 3], [4, 5, 6], [2, 4, 6]]\n",
    "Y = [[1, 4, 5, 2], [3, 6, 9, 5], [2, 3, 5, 1]]\n",
    "\n",
    "\n",
    "X_rows = len(X)\n",
    "X_cols = len(X[0])\n",
    "Y_cols = len(Y[0])\n",
    "\n",
    "\n",
    "result = [[0] * Y_cols for i in range(X_rows)]\n",
    "\n",
    "\n",
    "for i in range(X_rows):\n",
    "    for j in range(Y_cols):\n",
    "        for k in range(X_cols):\n",
    "            result[i][j] += X[i][k] * Y[k][j]\n",
    "\n",
    "# Print the result matrix\n",
    "for row in result:\n",
    "    print(row)\n"
   ]
  },
  {
   "cell_type": "code",
   "execution_count": null,
   "id": "ffea733b",
   "metadata": {},
   "outputs": [],
   "source": []
  }
 ],
 "metadata": {
  "kernelspec": {
   "display_name": "Python 3 (ipykernel)",
   "language": "python",
   "name": "python3"
  },
  "language_info": {
   "codemirror_mode": {
    "name": "ipython",
    "version": 3
   },
   "file_extension": ".py",
   "mimetype": "text/x-python",
   "name": "python",
   "nbconvert_exporter": "python",
   "pygments_lexer": "ipython3",
   "version": "3.9.13"
  }
 },
 "nbformat": 4,
 "nbformat_minor": 5
}
