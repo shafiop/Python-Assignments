{
 "cells": [
  {
   "cell_type": "code",
   "execution_count": 1,
   "id": "4e9bfe27",
   "metadata": {},
   "outputs": [
    {
     "name": "stdout",
     "output_type": "stream",
     "text": [
      "Enter the number of items: 250\n",
      "You qualify for a 20% discount!\n",
      "Total cost: ₹ 2000.0\n"
     ]
    }
   ],
   "source": [
    "num_items = int(input(\"Enter the number of items: \"))\n",
    "\n",
    "if num_items >= 10:\n",
    "    discount = 0.2 \n",
    "    print(\"You qualify for a 20% discount!\")\n",
    "elif num_items >= 5:\n",
    "    discount = 0.1 \n",
    "    print(\"You qualify for a 10% discount!\")\n",
    "else:\n",
    "    discount = 0  \n",
    "    print(\"Sorry, no discount available.\")\n",
    "\n",
    "item_price = 10 \n",
    "total_cost = num_items * item_price * (1 - discount)\n",
    "\n",
    "print(\"Total cost: ₹\", total_cost)\n"
   ]
  },
  {
   "cell_type": "markdown",
   "id": "b189db20",
   "metadata": {},
   "source": [
    "#### Explanation"
   ]
  },
  {
   "cell_type": "markdown",
   "id": "0e258e3f",
   "metadata": {},
   "source": [
    "The program prompts the user to enter the number of items using the input() function. The input is expected to be an integer representing the number of items. The entered value is stored in the variable num_items.\n",
    "\n",
    "The code then enters an if-elif-else statement to determine the discount based on the number of items.\n",
    "\n",
    "The first condition if num_items >= 10: checks if the number of items is greater than or equal to 10. If it is true, the discount is set to 0.2, indicating a 20% discount. Additionally, the program prints the message \"You qualify for a 20% discount!\" to inform the user about the discount.\n",
    "\n",
    "If the first condition is not met, the program checks the next condition elif num_items >= 5: which checks if the number of items is greater than or equal to 5. If true, the discount is set to 0.1, indicating a 10% discount. The program also prints the message \"You qualify for a 10% discount!\" to inform the user about the discount.\n",
    "\n",
    "If neither the first nor the second condition is met, the program reaches the else statement, which means the number of items is less than 5. In this case, the discount is set to 0, indicating no discount. The program also prints the message \"Sorry, no discount available.\" to inform the user.\n",
    "\n",
    "The program then calculates the total cost by multiplying the number of items (num_items), the item price (item_price), and the discount rate (1 - discount). The result is stored in the variable total_cost.\n",
    "\n",
    "Finally, the program prints the total cost using the print() function, along with the message \"Total cost: ₹\" to indicate the currency Indian Rupees.\n",
    "\n",
    "So, based on the number of items entered by the user, the program determines the appropriate discount (if any) and calculates the total cost accordingly."
   ]
  },
  {
   "cell_type": "code",
   "execution_count": null,
   "id": "96a17c2c",
   "metadata": {},
   "outputs": [],
   "source": []
  }
 ],
 "metadata": {
  "kernelspec": {
   "display_name": "Python 3 (ipykernel)",
   "language": "python",
   "name": "python3"
  },
  "language_info": {
   "codemirror_mode": {
    "name": "ipython",
    "version": 3
   },
   "file_extension": ".py",
   "mimetype": "text/x-python",
   "name": "python",
   "nbconvert_exporter": "python",
   "pygments_lexer": "ipython3",
   "version": "3.10.9"
  }
 },
 "nbformat": 4,
 "nbformat_minor": 5
}
