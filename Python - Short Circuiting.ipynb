{
 "cells": [
  {
   "cell_type": "code",
   "execution_count": 1,
   "id": "ab3e056e",
   "metadata": {},
   "outputs": [
    {
     "name": "stdout",
     "output_type": "stream",
     "text": [
      "True\n",
      "False\n"
     ]
    }
   ],
   "source": [
    "def check_string(string):\n",
    "    if 'a' in string and 'b' in string:\n",
    "        return True\n",
    "    else:\n",
    "        return False\n",
    "string1 = \"abcde\"\n",
    "string2 = \"defg\"\n",
    "print(check_string(string1))  # Output: True\n",
    "print(check_string(string2))  # Output: False\n"
   ]
  },
  {
   "cell_type": "markdown",
   "id": "26f380e3",
   "metadata": {},
   "source": [
    "The code starts with the function definition def check_string(string):. This defines a function named check_string that takes a single parameter string. This function will be used to check if the string contains both 'a' and 'b'.\n",
    "\n",
    "Inside the function, the code checks the condition if 'a' in string and 'b' in string:. This condition checks if both 'a' and 'b' are present in the given string. If this condition evaluates to True, it means both letters are found, so the function immediately returns True to indicate that the condition is met.\n",
    "\n",
    "If the condition in the if statement is False, meaning either 'a' or 'b' or both are missing from the string, the program executes the else block.\n",
    "\n",
    "Inside the else block, the function returns False to indicate that the condition is not met, and either 'a' or 'b' or both are missing from the string.\n",
    "\n",
    "After the function definition, the code creates two strings string1 and string2 with different contents.\n",
    "\n",
    "The program then calls the check_string function twice, passing string1 and string2 as arguments respectively, and prints the results using the print() function.\n",
    "\n",
    "The output of the first function call print(check_string(string1)) is True because the string string1 contains both 'a' and 'b'.\n",
    "\n",
    "The output of the second function call print(check_string(string2)) is False because the string string2 does not contain either 'a' or 'b'.\n",
    "\n",
    "So, the program effectively checks if a given string contains both 'a' and 'b' and returns True if both letters are present, or False otherwise."
   ]
  }
 ],
 "metadata": {
  "kernelspec": {
   "display_name": "Python 3 (ipykernel)",
   "language": "python",
   "name": "python3"
  },
  "language_info": {
   "codemirror_mode": {
    "name": "ipython",
    "version": 3
   },
   "file_extension": ".py",
   "mimetype": "text/x-python",
   "name": "python",
   "nbconvert_exporter": "python",
   "pygments_lexer": "ipython3",
   "version": "3.10.9"
  }
 },
 "nbformat": 4,
 "nbformat_minor": 5
}
