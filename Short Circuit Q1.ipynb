{
 "cells": [
  {
   "cell_type": "markdown",
   "id": "0d12b265",
   "metadata": {},
   "source": [
    "You are building a login system for a website. To validate a user's credentials, you need to check if their username exists and if their password is correct. Implement a Python program that uses short-circuit evaluation to determine if the login should be granted or denied. The program should print \"Login successful!\" if both the username exists and the password is correct. Otherwise, it should print \"Login failed!\"."
   ]
  },
  {
   "cell_type": "code",
   "execution_count": 2,
   "id": "239409b6",
   "metadata": {},
   "outputs": [
    {
     "name": "stdout",
     "output_type": "stream",
     "text": [
      "Enter your username: admin\n",
      "Enter your password: password\n",
      "Login failed!\n"
     ]
    }
   ],
   "source": [
    "def validate_login(username, password):\n",
    "    if username == \"admin\" and password == \"p@ssw0rd\":\n",
    "        print(\"Login successful!\")\n",
    "    else:\n",
    "        print(\"Login failed!\")\n",
    "\n",
    "username_input = input(\"Enter your username: \")\n",
    "password_input = input(\"Enter your password: \")\n",
    "validate_login(username_input, password_input)\n"
   ]
  },
  {
   "cell_type": "markdown",
   "id": "dcb40f94",
   "metadata": {},
   "source": [
    "The validate_login function is defined, which takes two arguments: username and password. This function is responsible for validating the login credentials.\n",
    "\n",
    "Inside the function, there is an if statement that checks two conditions using the \"and\" operator:\n",
    "\n",
    "The first condition checks if the username provided is equal to the string \"admin\".\n",
    "The second condition checks if the password provided is equal to the string \"p@ssw0rd\".\n",
    "If both conditions evaluate to True, it means that the username is \"admin\" and the password is \"p@ssw0rd\". In this case, the code inside the if block executes, and the message \"Login successful!\" is printed.\n",
    "\n",
    "If either of the conditions evaluates to False, it means that either the username is not \"admin\" or the password is not \"p@ssw0rd\". In this case, the code inside the else block executes, and the message \"Login failed!\" is printed.\n",
    "\n",
    "After defining the validate_login function, the code prompts the user to enter their username using the input function and stores it in the variable username_input.\n",
    "\n",
    "Similarly, the code prompts the user to enter their password and stores it in the variable password_input using the input function.\n",
    "\n",
    "Finally, the validate_login function is called with the username_input and password_input variables as arguments. This triggers the validation process, and the function determines whether the login was successful or not based on the provided credentials.\n",
    "\n",
    "To summarize, this code allows the user to enter their username and password, and then it validates the login credentials. If the username is \"admin\" and the password is \"p@ssw0rd\", it prints \"Login successful!\"; otherwise, it prints \"Login failed!\"."
   ]
  }
 ],
 "metadata": {
  "kernelspec": {
   "display_name": "Python 3 (ipykernel)",
   "language": "python",
   "name": "python3"
  },
  "language_info": {
   "codemirror_mode": {
    "name": "ipython",
    "version": 3
   },
   "file_extension": ".py",
   "mimetype": "text/x-python",
   "name": "python",
   "nbconvert_exporter": "python",
   "pygments_lexer": "ipython3",
   "version": "3.10.9"
  }
 },
 "nbformat": 4,
 "nbformat_minor": 5
}
