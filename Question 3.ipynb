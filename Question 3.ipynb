{
 "cells": [
  {
   "cell_type": "markdown",
   "id": "06a3f1dc",
   "metadata": {},
   "source": [
    "\n",
    "I'm developing a program for a grocery store that calculates the total cost of a customer's purchase. The program should apply different discounts based on the total purchase amount. The conditions for the discounts are as follows:\n",
    "If the total purchase amount is less than 50 Rupees, there is no discount.\n",
    "If the total purchase amount is between 50 Rupees and 100 Rupees (inclusive), apply a 5% discount.\n",
    "If the total purchase amount is between 100 Rupees and 200 Rupees (inclusive), apply a 10% discount.\n",
    "If the total purchase amount is greater than 200 Rupees, apply a 15% discount.\n",
    "Write a Python program that takes input for the total purchase amount and calculates the discounted price based on the conditions above."
   ]
  },
  {
   "cell_type": "code",
   "execution_count": 1,
   "id": "cb61bf59",
   "metadata": {},
   "outputs": [
    {
     "name": "stdout",
     "output_type": "stream",
     "text": [
      "Enter the total purchase amount: ₹250\n",
      "Discounted price: ₹ 212.5\n"
     ]
    }
   ],
   "source": [
    "total_purchase = float(input(\"Enter the total purchase amount: ₹\"))\n",
    "\n",
    "if total_purchase < 50:\n",
    "    discount = 0\n",
    "elif total_purchase <= 100:\n",
    "    discount = 0.05 \n",
    "elif total_purchase <= 200:\n",
    "    discount = 0.1  \n",
    "else:\n",
    "    discount = 0.15\n",
    "\n",
    "discounted_price = total_purchase - (total_purchase * discount)\n",
    "\n",
    "print(\"Discounted price: ₹\", discounted_price)\n"
   ]
  },
  {
   "cell_type": "markdown",
   "id": "51d650f5",
   "metadata": {},
   "source": [
    "The program prompts the user to enter the total purchase amount using the input() function. The input is expected to be a float (decimal number) representing the purchase amount. The entered amount is stored in the variable total_purchase.\n",
    "\n",
    "The code then enters an if-elif-else statement to determine the discount based on the total purchase amount.\n",
    "\n",
    "The first condition if total_purchase < 50: checks if the total purchase amount is less than 50. If it is true, the discount is set to 0, indicating no discount.\n",
    "\n",
    "If the first condition is not met, the program checks the next condition elif total_purchase <= 100: which checks if the total purchase amount is less than or equal to 100. If true, the discount is set to 0.05, indicating a 5% discount.\n",
    "\n",
    "If neither the first nor the second condition is met, the program moves to the next condition elif total_purchase <= 200: which checks if the total purchase amount is less than or equal to 200. If true, the discount is set to 0.1, indicating a 10% discount.\n",
    "\n",
    "If none of the previous conditions are met, the program reaches the else statement, which means the total purchase amount is above 200. In this case, the discount is set to 0.15, indicating a 15% discount.\n",
    "\n",
    "The program then calculates the discounted price by subtracting the discount amount from the total purchase amount using the formula total_purchase - (total_purchase * discount). The result is stored in the variable discounted_price.\n",
    "\n",
    "Finally, the program prints the discounted price using the print() function, along with the message \"Discounted price: ₹\" to indicate the currency (Indian Rupees).\n",
    "\n",
    "So, based on the total purchase amount, the program determines the appropriate discount percentage and calculates the discounted price accordingly."
   ]
  },
  {
   "cell_type": "code",
   "execution_count": null,
   "id": "738e7d6d",
   "metadata": {},
   "outputs": [],
   "source": []
  }
 ],
 "metadata": {
  "kernelspec": {
   "display_name": "Python 3 (ipykernel)",
   "language": "python",
   "name": "python3"
  },
  "language_info": {
   "codemirror_mode": {
    "name": "ipython",
    "version": 3
   },
   "file_extension": ".py",
   "mimetype": "text/x-python",
   "name": "python",
   "nbconvert_exporter": "python",
   "pygments_lexer": "ipython3",
   "version": "3.10.9"
  }
 },
 "nbformat": 4,
 "nbformat_minor": 5
}
