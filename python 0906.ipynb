{
 "cells": [
  {
   "cell_type": "code",
   "execution_count": null,
   "id": "62af9659",
   "metadata": {},
   "outputs": [],
   "source": [
    "r=int(input(\"\"))\n",
    "area = 3.14*(r**2)\n",
    "print(area)"
   ]
  },
  {
   "cell_type": "code",
   "execution_count": null,
   "id": "cc8c4d2c",
   "metadata": {},
   "outputs": [],
   "source": [
    "r=int(input(\"\"))\n",
    "volume= 4.19*(r**3)\n",
    "print(volume)"
   ]
  },
  {
   "cell_type": "code",
   "execution_count": null,
   "id": "aac1e345",
   "metadata": {},
   "outputs": [],
   "source": [
    "s1='AULT'"
   ]
  },
  {
   "cell_type": "code",
   "execution_count": null,
   "id": "ac2aec8c",
   "metadata": {},
   "outputs": [],
   "source": [
    "s1[:2]+"
   ]
  },
  {
   "cell_type": "code",
   "execution_count": null,
   "id": "4f232923",
   "metadata": {},
   "outputs": [],
   "source": [
    "s1[2:4]"
   ]
  },
  {
   "cell_type": "code",
   "execution_count": null,
   "id": "9ba0a5a3",
   "metadata": {},
   "outputs": [],
   "source": [
    "s2=\"KELLY\"\n",
    "s1[:2]+s2+s1[2:4]"
   ]
  },
  {
   "cell_type": "code",
   "execution_count": 2,
   "id": "bbe6a91c",
   "metadata": {},
   "outputs": [
    {
     "data": {
      "text/plain": [
       "'AJRPAN'"
      ]
     },
     "execution_count": 2,
     "metadata": {},
     "output_type": "execute_result"
    }
   ],
   "source": [
    "s1=\"AMERICA\"\n",
    "s2=\"JAPAN\"\n",
    "mid1=len(s1)//2\n",
    "mid2=len(s2)//2\n",
    "s1[:1]+s2[:1]+s1[mid1]+s2[mid2]+s1[6]+s2[4]"
   ]
  },
  {
   "cell_type": "markdown",
   "id": "cea65781",
   "metadata": {},
   "source": [
    "#### \"my name is {1} and iam {4} {3}{2}{0}{5}years old\".format('shafi',26,47,45,78,89)"
   ]
  },
  {
   "cell_type": "code",
   "execution_count": 7,
   "id": "b3053ea1",
   "metadata": {},
   "outputs": [],
   "source": [
    "L1=['A','b','c']\n",
    "L1[1:]=['B','C']"
   ]
  },
  {
   "cell_type": "code",
   "execution_count": 8,
   "id": "f5b436bd",
   "metadata": {},
   "outputs": [
    {
     "data": {
      "text/plain": [
       "['A', 'B', 'C']"
      ]
     },
     "execution_count": 8,
     "metadata": {},
     "output_type": "execute_result"
    }
   ],
   "source": [
    "L1"
   ]
  },
  {
   "cell_type": "code",
   "execution_count": 11,
   "id": "92a48710",
   "metadata": {},
   "outputs": [],
   "source": [
    "L1[0]='a'"
   ]
  },
  {
   "cell_type": "code",
   "execution_count": 12,
   "id": "a354b631",
   "metadata": {},
   "outputs": [
    {
     "data": {
      "text/plain": [
       "['a', 'B', 'C']"
      ]
     },
     "execution_count": 12,
     "metadata": {},
     "output_type": "execute_result"
    }
   ],
   "source": [
    "L1"
   ]
  },
  {
   "cell_type": "code",
   "execution_count": 13,
   "id": "52ab22d3",
   "metadata": {},
   "outputs": [],
   "source": [
    "L2=['A', 'B', 'C']"
   ]
  },
  {
   "cell_type": "code",
   "execution_count": 18,
   "id": "6f1a353a",
   "metadata": {},
   "outputs": [],
   "source": [
    "L3=L1+L2"
   ]
  },
  {
   "cell_type": "code",
   "execution_count": 19,
   "id": "45bb17ac",
   "metadata": {},
   "outputs": [],
   "source": [
    "L3.remove('C')"
   ]
  },
  {
   "cell_type": "code",
   "execution_count": 20,
   "id": "b55424ec",
   "metadata": {},
   "outputs": [
    {
     "data": {
      "text/plain": [
       "['a', 'B', 'A', 'B']"
      ]
     },
     "execution_count": 20,
     "metadata": {},
     "output_type": "execute_result"
    }
   ],
   "source": [
    "L3"
   ]
  },
  {
   "cell_type": "code",
   "execution_count": 21,
   "id": "6468cb56",
   "metadata": {},
   "outputs": [
    {
     "data": {
      "text/plain": [
       "'a'"
      ]
     },
     "execution_count": 21,
     "metadata": {},
     "output_type": "execute_result"
    }
   ],
   "source": [
    "L3.pop(0)"
   ]
  },
  {
   "cell_type": "code",
   "execution_count": 22,
   "id": "dfb34001",
   "metadata": {},
   "outputs": [
    {
     "data": {
      "text/plain": [
       "'B'"
      ]
     },
     "execution_count": 22,
     "metadata": {},
     "output_type": "execute_result"
    }
   ],
   "source": [
    "L3.pop()"
   ]
  },
  {
   "cell_type": "code",
   "execution_count": 23,
   "id": "4ac58d7b",
   "metadata": {},
   "outputs": [],
   "source": [
    "L4=['a', 'B', 'A', 'B']"
   ]
  },
  {
   "cell_type": "code",
   "execution_count": 24,
   "id": "5e607208",
   "metadata": {},
   "outputs": [
    {
     "data": {
      "text/plain": [
       "'B'"
      ]
     },
     "execution_count": 24,
     "metadata": {},
     "output_type": "execute_result"
    }
   ],
   "source": [
    "L4.pop()"
   ]
  },
  {
   "cell_type": "code",
   "execution_count": 25,
   "id": "f83971a3",
   "metadata": {},
   "outputs": [
    {
     "data": {
      "text/plain": [
       "['a', 'B', 'A']"
      ]
     },
     "execution_count": 25,
     "metadata": {},
     "output_type": "execute_result"
    }
   ],
   "source": [
    "L4"
   ]
  },
  {
   "cell_type": "code",
   "execution_count": null,
   "id": "8eb0fadf",
   "metadata": {},
   "outputs": [],
   "source": []
  },
  {
   "cell_type": "code",
   "execution_count": null,
   "id": "03157b4e",
   "metadata": {},
   "outputs": [],
   "source": []
  }
 ],
 "metadata": {
  "kernelspec": {
   "display_name": "Python 3 (ipykernel)",
   "language": "python",
   "name": "python3"
  },
  "language_info": {
   "codemirror_mode": {
    "name": "ipython",
    "version": 3
   },
   "file_extension": ".py",
   "mimetype": "text/x-python",
   "name": "python",
   "nbconvert_exporter": "python",
   "pygments_lexer": "ipython3",
   "version": "3.9.13"
  }
 },
 "nbformat": 4,
 "nbformat_minor": 5
}
