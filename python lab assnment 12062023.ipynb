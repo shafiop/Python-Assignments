{
 "cells": [
  {
   "cell_type": "markdown",
   "id": "831e8278",
   "metadata": {},
   "source": [
    "#### 1. WRITE A PYTHON PROGRAM TO ADD TWO MATRICES USING NESTED FOR LOOP\n",
    "X=[[1,2,3], [4,5,6], [2,4,6]]\n",
    "Y=[[1,4,5], [3,6,9], [2,3,5]]"
   ]
  },
  {
   "cell_type": "code",
   "execution_count": 1,
   "id": "9c52fd19",
   "metadata": {},
   "outputs": [
    {
     "data": {
      "text/plain": [
       "[[2, 6, 8], [7, 11, 15], [4, 7, 11]]"
      ]
     },
     "execution_count": 1,
     "metadata": {},
     "output_type": "execute_result"
    }
   ],
   "source": [
    "X = [[1, 2, 3], [4, 5, 6], [2, 4, 6]]\n",
    "Y = [[1, 4, 5], [3, 6, 9], [2, 3, 5]]\n",
    "\n",
    "\n",
    "result = [[0, 0, 0], [0, 0, 0], [0, 0, 0]]\n",
    "R1=len(X)\n",
    "R2=len(X[0])\n",
    "\n",
    "for i in range(R1):\n",
    "    for j in range(R2):\n",
    "        result[i][j]=X[i][j] + Y[i][j]\n",
    "        \n",
    "result"
   ]
  },
  {
   "cell_type": "markdown",
   "id": "377c219d",
   "metadata": {},
   "source": [
    "#### 2.WRITE A PYTHON PROGRAM TO TRANSPOSE TWO MATRICES USING NESTED FOR\n",
    "LOOP\n",
    "X=[[1,4,7], [2,3,5], [2,4,6]]\n",
    "Y=[[1,4,5], [3,6,9], [2,3,5]]"
   ]
  },
  {
   "cell_type": "code",
   "execution_count": 2,
   "id": "43edfb8d",
   "metadata": {},
   "outputs": [
    {
     "name": "stdout",
     "output_type": "stream",
     "text": [
      "Transpose of X:\n",
      "[1, 2, 2]\n",
      "[4, 3, 4]\n",
      "[7, 5, 6]\n",
      "Transpose of Y:\n",
      "[1, 3, 2]\n",
      "[4, 6, 3]\n",
      "[5, 9, 5]\n"
     ]
    }
   ],
   "source": [
    "X = [[1, 4, 7], [2, 3, 5], [2, 4, 6]]\n",
    "Y = [[1, 4, 5], [3, 6, 9], [2, 3, 5]]\n",
    "\n",
    "\n",
    "result_X = [[0, 0, 0], [0, 0, 0], [0, 0, 0]]\n",
    "result_Y = [[0, 0, 0], [0, 0, 0], [0, 0, 0]]\n",
    "\n",
    "# Transpose matrix X\n",
    "for i in range(len(X)): # 0 1 2 \n",
    "    for j in range(len(X[0])): #list count\n",
    "        result_X[j][i] = X[i][j]\n",
    "\n",
    "# Transpose matrix Y\n",
    "for i in range(len(Y)):\n",
    "    for j in range(len(Y[0])):\n",
    "        result_Y[j][i] = Y[i][j]\n",
    "\n",
    "# Print the transposed matrices\n",
    "print(\"Transpose of X:\")\n",
    "for k in result_X:\n",
    "    print(k)\n",
    "\n",
    "print(\"Transpose of Y:\")\n",
    "for k in result_Y:\n",
    "    print(k)"
   ]
  },
  {
   "cell_type": "markdown",
   "id": "eead8b2b",
   "metadata": {},
   "source": [
    "#### 3. WRITE A PYTHON PROGRAM TO MULTIPLY TWO MATRICES USING NESTED FOR\n",
    "LOOP\n",
    "X=[[1,2,3], [4,5,6], [2,4,6]]\n",
    "Y=[[1,4,5,2], [3,6,9,5], [2,3,5,1]]"
   ]
  },
  {
   "cell_type": "code",
   "execution_count": 3,
   "id": "9ac2f8bc",
   "metadata": {},
   "outputs": [
    {
     "name": "stdout",
     "output_type": "stream",
     "text": [
      "[13, 25, 38, 15]\n",
      "[31, 64, 95, 39]\n",
      "[26, 50, 76, 30]\n"
     ]
    }
   ],
   "source": [
    "X = [[1, 2, 3], [4, 5, 6], [2, 4, 6]]\n",
    "Y = [[1, 4, 5, 2], [3, 6, 9, 5], [2, 3, 5, 1]]\n",
    "\n",
    "\n",
    "X_rows = len(X)\n",
    "X_cols = len(X[0])\n",
    "Y_cols = len(Y[0])\n",
    "\n",
    "\n",
    "result = [[0] * Y_cols for i in range(X_rows)]\n",
    "\n",
    "\n",
    "for i in range(X_rows):\n",
    "    for j in range(Y_cols):\n",
    "        for k in range(X_cols):\n",
    "            result[i][j] += X[i][k] * Y[k][j]\n",
    "\n",
    "# Print the result matrix\n",
    "for row in result:\n",
    "    print(row)"
   ]
  },
  {
   "cell_type": "markdown",
   "id": "9aabb2ee",
   "metadata": {},
   "source": [
    "#### 4.Python program to convert the temperature in degree centigrade to Fahrenheit"
   ]
  },
  {
   "cell_type": "code",
   "execution_count": 4,
   "id": "3d93947b",
   "metadata": {},
   "outputs": [
    {
     "name": "stdout",
     "output_type": "stream",
     "text": [
      "Enter temperature in Celsius: 100\n",
      "Temperature in Fahrenheit:  212.0  °F\n"
     ]
    }
   ],
   "source": [
    "# Function to convert temperature from Celsius to Fahrenheit\n",
    "def celsius_to_fahrenheit(celsius):\n",
    "    fahrenheit = (celsius * 9/5) + 32\n",
    "    return fahrenheit\n",
    "\n",
    "# Read temperature in Celsius from the user\n",
    "celsius = float(input(\"Enter temperature in Celsius: \"))\n",
    "\n",
    "# Convert Celsius to Fahrenheit\n",
    "fahrenheit = celsius_to_fahrenheit(celsius)\n",
    "\n",
    "# Print the converted temperature\n",
    "print(f\"Temperature in Fahrenheit: \" ,fahrenheit, \" °F\")"
   ]
  },
  {
   "cell_type": "markdown",
   "id": "0a022e6e",
   "metadata": {},
   "source": [
    "#### 5.Python program to find the sum of the digits of an integer using a while loop"
   ]
  },
  {
   "cell_type": "code",
   "execution_count": 6,
   "id": "13a2f893",
   "metadata": {},
   "outputs": [
    {
     "name": "stdout",
     "output_type": "stream",
     "text": [
      "input an integer88\n",
      "16\n"
     ]
    }
   ],
   "source": [
    "n=int(input('input an integer'))\n",
    "Sum=0\n",
    "while(n>0):\n",
    "    reminder=n%10\n",
    "    Sum=Sum+reminder\n",
    "    n=n//10\n",
    "    \n",
    "print(Sum)"
   ]
  },
  {
   "cell_type": "markdown",
   "id": "2bee6db1",
   "metadata": {},
   "source": [
    "#### 6.Make a two-player Rock-Paper-Scissors game. (Hint: Ask for player plays (using input), compare them, print out a message of congratulations to the winner, and ask if the players want to start a new game)"
   ]
  },
  {
   "cell_type": "code",
   "execution_count": null,
   "id": "acfdd350",
   "metadata": {},
   "outputs": [
    {
     "name": "stdout",
     "output_type": "stream",
     "text": [
      "Player 1, enter your move (rock/paper/scissors): scissor\n",
      "Player 2, enter your move (rock/paper/scissors): paper\n",
      "Player 2 wins! Congratulations to the winner\n",
      "Do you want to play again? (yes/no): yes\n",
      "Player 1, enter your move (rock/paper/scissors): scissors\n",
      "Player 2, enter your move (rock/paper/scissors): paper\n",
      "Player 1 wins! Congratulations to the winner\n"
     ]
    }
   ],
   "source": [
    "# Function to determine the winner\n",
    "def determine_winner(player1, player2):\n",
    "    if player1 == player2:\n",
    "        return \"It's a tie!\"\n",
    "    elif (player1 == 'rock' and player2 == 'scissors') or \\\n",
    "         (player1 == 'scissors' and player2 == 'paper') or \\\n",
    "         (player1 == 'paper' and player2 == 'rock'):\n",
    "        return \"Player 1 wins! Congratulations to the winner\"\n",
    "    else:\n",
    "        return \"Player 2 wins! Congratulations to the winner\"\n",
    "\n",
    "# Function to check if players want to start a new game\n",
    "def play_again():\n",
    "    response = input(\"Do you want to play again? (yes/no): \")\n",
    "    return response.lower() == 'yes'\n",
    "\n",
    "# Main game loop\n",
    "while True:\n",
    "    # Read player moves\n",
    "    player1_move = input(\"Player 1, enter your move (rock/paper/scissors): \")\n",
    "    player2_move = input(\"Player 2, enter your move (rock/paper/scissors): \")\n",
    "\n",
    "    # Determine the winner\n",
    "    winner = determine_winner(player1_move, player2_move)\n",
    "\n",
    "    # Print the result\n",
    "    print(winner)\n",
    "\n",
    "    # Check if players want to play again\n",
    "    if not play_again():\n",
    "        break"
   ]
  },
  {
   "cell_type": "code",
   "execution_count": null,
   "id": "0dd9b416",
   "metadata": {},
   "outputs": [],
   "source": []
  }
 ],
 "metadata": {
  "kernelspec": {
   "display_name": "Python 3 (ipykernel)",
   "language": "python",
   "name": "python3"
  },
  "language_info": {
   "codemirror_mode": {
    "name": "ipython",
    "version": 3
   },
   "file_extension": ".py",
   "mimetype": "text/x-python",
   "name": "python",
   "nbconvert_exporter": "python",
   "pygments_lexer": "ipython3",
   "version": "3.9.13"
  }
 },
 "nbformat": 4,
 "nbformat_minor": 5
}
