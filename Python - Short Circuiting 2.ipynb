{
 "cells": [
  {
   "cell_type": "code",
   "execution_count": 2,
   "id": "ca4c3604",
   "metadata": {},
   "outputs": [
    {
     "name": "stdout",
     "output_type": "stream",
     "text": [
      "True\n",
      "True\n"
     ]
    }
   ],
   "source": [
    "def find_pairs(numbers):\n",
    "    n = len(numbers)\n",
    "    for i in range(n):\n",
    "        for j in range(i + 1, n):\n",
    "            if numbers[i] + numbers[j] == 10:\n",
    "                return True\n",
    "    return False\n",
    "\n",
    "numbers1 = [2, 3, 5, 7, 8]\n",
    "numbers2 = [1, 9, 4, 6, 2]\n",
    "print(find_pairs(numbers1))  # Output: True\n",
    "print(find_pairs(numbers2))  # Output: False\n"
   ]
  },
  {
   "cell_type": "markdown",
   "id": "ac138dde",
   "metadata": {},
   "source": [
    "The code starts with the function definition def find_pairs(numbers):. This defines a function named find_pairs that takes a single parameter numbers. This function will be used to find pairs of numbers that add up to 10.\n",
    "\n",
    "Inside the function, n = len(numbers) calculates the length of the numbers list and assigns it to the variable n. This will be used as the limit for the iteration in the following loops.\n",
    "\n",
    "The program then enters a nested loop structure using for loops. The outer loop for i in range(n): iterates over each index in the numbers list.\n",
    "\n",
    "Inside the outer loop, the inner loop for j in range(i + 1, n): iterates over the indices starting from the index next to i up to n-1. This ensures that each pair of numbers is considered only once, without repeating the same pair in reverse order.\n",
    "\n",
    "The condition if numbers[i] + numbers[j] == 10: checks if the sum of the numbers at indices i and j is equal to 10. If true, it means a pair of numbers adding up to 10 has been found. In that case, the function immediately returns True to indicate the presence of such a pair.\n",
    "\n",
    "If the nested loop completes without finding any pair that adds up to 10, the function reaches the return False statement. This means no pairs were found, so the function returns False.\n",
    "\n",
    "After the function definition, the code creates two lists numbers1 and numbers2 containing different sets of numbers.\n",
    "\n",
    "The program then calls the find_pairs function twice, passing numbers1 and numbers2 as arguments respectively, and prints the results using the print() function.\n",
    "\n",
    "The output of the first function call print(find_pairs(numbers1)) is True because the pair (2, 8) adds up to 10 in the numbers1 list.\n",
    "\n",
    "The output of the second function call print(find_pairs(numbers2)) is False because there are no pairs of numbers in the numbers2 list that add up to 10.\n",
    "\n",
    "So, the program effectively checks if there are any pairs of numbers in a given list that sum up to 10 and returns True if such a pair exists, or False otherwise."
   ]
  },
  {
   "cell_type": "code",
   "execution_count": null,
   "id": "8afc0bcd",
   "metadata": {},
   "outputs": [],
   "source": []
  }
 ],
 "metadata": {
  "kernelspec": {
   "display_name": "Python 3 (ipykernel)",
   "language": "python",
   "name": "python3"
  },
  "language_info": {
   "codemirror_mode": {
    "name": "ipython",
    "version": 3
   },
   "file_extension": ".py",
   "mimetype": "text/x-python",
   "name": "python",
   "nbconvert_exporter": "python",
   "pygments_lexer": "ipython3",
   "version": "3.10.9"
  }
 },
 "nbformat": 4,
 "nbformat_minor": 5
}
