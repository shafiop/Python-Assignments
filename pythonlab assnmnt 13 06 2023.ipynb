{
 "cells": [
  {
   "cell_type": "code",
   "execution_count": null,
   "id": "14ebe1d6",
   "metadata": {},
   "outputs": [],
   "source": []
  },
  {
   "cell_type": "code",
   "execution_count": null,
   "id": "4220d731",
   "metadata": {},
   "outputs": [],
   "source": [
    "def sum1(L1):\n",
    "    add=0\n",
    "\n",
    "    \n",
    "    for i in L1:\n",
    "        add = add + i\n",
    "        \n",
    "\n",
    "    return add\n",
    "\n",
    "print(sum1([8,2,3,0,7]))\n",
    "print(sum1([7,6,8]))\n"
   ]
  },
  {
   "cell_type": "code",
   "execution_count": null,
   "id": "cf278618",
   "metadata": {},
   "outputs": [],
   "source": [
    "def pdt(L1):\n",
    "    multi=1\n",
    "    for i in L1:\n",
    "        multi = multi*i\n",
    "    return multi\n",
    "print(pdt((8,2,3,-1,7)))"
   ]
  },
  {
   "cell_type": "markdown",
   "id": "c4366c25",
   "metadata": {},
   "source": [
    "#### Write a Python function to calculate the factorial of a number (a non-negative integer). The function accepts the number as an argument."
   ]
  },
  {
   "cell_type": "code",
   "execution_count": null,
   "id": "011421da",
   "metadata": {},
   "outputs": [],
   "source": [
    "def factorial(n):\n",
    "    if n==0:\n",
    "        return 1\n",
    "    else:\n",
    "        return n*factorial(n-1)\n",
    "n=int(input('input a number'))\n",
    "factorial(n)"
   ]
  },
  {
   "cell_type": "code",
   "execution_count": null,
   "id": "aa921cdc",
   "metadata": {},
   "outputs": [],
   "source": [
    "def check_range(n):\n",
    "    if n in range(1,500):\n",
    "        print('it is in range')\n",
    "    else:\n",
    "        print('it is not in range')\n",
    "n=int(input('enter any number'))\n",
    "check_range(n)"
   ]
  },
  {
   "cell_type": "code",
   "execution_count": 1,
   "id": "9a08aa59",
   "metadata": {},
   "outputs": [
    {
     "name": "stdout",
     "output_type": "stream",
     "text": [
      "upper case characters: 8\n",
      "lower case characters: 10\n"
     ]
    }
   ],
   "source": [
    "def count_case(str1):\n",
    "    d={'uppercase':0 , 'lowercase':0}\n",
    "    for i in str1:\n",
    "        if i.isupper():\n",
    "            d['uppercase']+=1\n",
    "        elif i.islower():\n",
    "            d['lowercase']+=1\n",
    "        else:\n",
    "         pass\n",
    "    print('upper case characters:',d['uppercase'])\n",
    "    print('lower case characters:',d['lowercase'])\n",
    "count_case('Abel mOIDeen FateMAH')"
   ]
  },
  {
   "cell_type": "code",
   "execution_count": 4,
   "id": "98e2477c",
   "metadata": {},
   "outputs": [
    {
     "data": {
      "text/plain": [
       "[1, 2, 3, 4, 5]"
      ]
     },
     "execution_count": 4,
     "metadata": {},
     "output_type": "execute_result"
    }
   ],
   "source": [
    "def get_unique_list(L1):\n",
    "    x =[]\n",
    "    for i in L1:\n",
    "        if i not in x:\n",
    "            x.append(i)\n",
    "        else:\n",
    "         pass\n",
    "    return x\n",
    "get_unique_list([1,2,3,3,3,3,4,5])\n"
   ]
  },
  {
   "cell_type": "code",
   "execution_count": null,
   "id": "862892c0",
   "metadata": {},
   "outputs": [],
   "source": [
    "def is_prime(number):\n",
    "    if number <= 1:\n",
    "        return False\n",
    "    for i in range(2, int(number**0.5) + 1):\n",
    "        if number % i == 0:\n",
    "            return False\n",
    "    return True\n",
    "num = 17\n",
    "result = is_prime(num)\n",
    "print(result)\n"
   ]
  },
  {
   "cell_type": "code",
   "execution_count": null,
   "id": "b1a76044",
   "metadata": {},
   "outputs": [],
   "source": [
    "def is_perfect(number):\n",
    "    if number <= 0:\n",
    "        return False\n",
    "\n",
    "    divisors_sum = 0\n",
    "    for i in range(1, number):\n",
    "        if number % i == 0:\n",
    "            divisors_sum += i\n",
    "\n",
    "    return divisors_sum == number\n",
    "num = 28\n",
    "result = is_perfect(num)\n",
    "print(result)\n"
   ]
  },
  {
   "cell_type": "code",
   "execution_count": null,
   "id": "2c6555b4",
   "metadata": {},
   "outputs": [],
   "source": [
    "def is_palindrome(string):\n",
    "    string = string.lower()  # Convert string to lowercase for case-insensitive comparison\n",
    "    reversed_string = string[::-1]  # Reverse the string\n",
    "\n",
    "    return string == reversed_string\n",
    "text = \"radar\"\n",
    "result = is_palindrome(text)\n",
    "print(result)\n"
   ]
  },
  {
   "cell_type": "code",
   "execution_count": null,
   "id": "f7240757",
   "metadata": {},
   "outputs": [],
   "source": [
    "import string\n",
    "\n",
    "def is_pangram(sentence):\n",
    "    alphabet = set(string.ascii_lowercase)  # Set of all lowercase letters\n",
    "\n",
    "    # Convert the sentence to lowercase and remove any non-alphabetic characters\n",
    "    sentence = ''.join(c.lower() for c in sentence if c.isalpha())\n",
    "\n",
    "    # Check if the set of unique letters in the sentence is equal to the alphabet set\n",
    "    return set(sentence) == alphabet\n",
    "text = \"The quick brown fox jumps over the lazy dog\"\n",
    "result = is_pangram(text)\n",
    "print(result)\n"
   ]
  },
  {
   "cell_type": "code",
   "execution_count": null,
   "id": "c245a23b",
   "metadata": {},
   "outputs": [],
   "source": [
    "def sort_words(sequence):\n",
    "    words = sequence.split(\"-\")  # Split the sequence into individual words\n",
    "    sorted_words = sorted(words)  # Sort the words alphabetically\n",
    "    result = \"-\".join(sorted_words)  # Join the sorted words back into a hyphen-separated sequence\n",
    "    return result\n",
    "\n",
    "sequence = \"green-red-yellow-black-white\"\n",
    "result = sort_words(sequence)\n",
    "print(result)\n"
   ]
  },
  {
   "cell_type": "code",
   "execution_count": null,
   "id": "01beb51a",
   "metadata": {},
   "outputs": [],
   "source": []
  }
 ],
 "metadata": {
  "kernelspec": {
   "display_name": "Python 3 (ipykernel)",
   "language": "python",
   "name": "python3"
  },
  "language_info": {
   "codemirror_mode": {
    "name": "ipython",
    "version": 3
   },
   "file_extension": ".py",
   "mimetype": "text/x-python",
   "name": "python",
   "nbconvert_exporter": "python",
   "pygments_lexer": "ipython3",
   "version": "3.10.9"
  }
 },
 "nbformat": 4,
 "nbformat_minor": 5
}
