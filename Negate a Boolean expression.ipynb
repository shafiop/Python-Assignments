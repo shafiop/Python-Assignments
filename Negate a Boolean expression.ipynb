{
 "cells": [
  {
   "cell_type": "code",
   "execution_count": 2,
   "id": "2390af34",
   "metadata": {},
   "outputs": [
    {
     "name": "stdout",
     "output_type": "stream",
     "text": [
      "Enter your age: 20\n",
      "Welcome! You can access this feature.\n"
     ]
    }
   ],
   "source": [
    "age = int(input(\"Enter your age: \"))\n",
    "\n",
    "if not age >= 18:\n",
    "    print(\"Sorry, you are not allowed to access this feature.\")\n",
    "else:\n",
    "   \n",
    "    print(\"Welcome! You can access this feature.\")\n"
   ]
  },
  {
   "cell_type": "markdown",
   "id": "83adb6ac",
   "metadata": {},
   "source": [
    "The program prompts the user to enter their age using the input() function. The input is expected to be an integer representing the age. The entered value is stored in the variable age.\n",
    "\n",
    "The code then enters an if-else statement to check the age of the user.\n",
    "\n",
    "The condition if not age >= 18: checks if the age is not greater than or equal to 18. This condition is essentially checking if the age is less than 18. If this condition is true, it means the user is underage and not allowed to access the feature. In this case, the program prints the message \"Sorry, you are not allowed to access this feature.\"\n",
    "\n",
    "If the condition in the if statement is false, meaning the age is greater than or equal to 18, the program moves to the else block.\n",
    "\n",
    "Inside the else block, the program executes the code that follows. In this case, it prints the message \"Welcome! You can access this feature.\" This message is displayed when the user's age is 18 or older, indicating that they are allowed to access the feature.\n",
    "\n",
    "So, the program checks if the user's age is 18 or older. If it is, it displays a welcome message indicating access to the feature. Otherwise, it informs the user that they are not allowed to access the feature."
   ]
  },
  {
   "cell_type": "code",
   "execution_count": null,
   "id": "91b73445",
   "metadata": {},
   "outputs": [],
   "source": []
  }
 ],
 "metadata": {
  "kernelspec": {
   "display_name": "Python 3 (ipykernel)",
   "language": "python",
   "name": "python3"
  },
  "language_info": {
   "codemirror_mode": {
    "name": "ipython",
    "version": 3
   },
   "file_extension": ".py",
   "mimetype": "text/x-python",
   "name": "python",
   "nbconvert_exporter": "python",
   "pygments_lexer": "ipython3",
   "version": "3.10.9"
  }
 },
 "nbformat": 4,
 "nbformat_minor": 5
}
