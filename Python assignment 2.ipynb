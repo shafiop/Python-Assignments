{
 "cells": [
  {
   "cell_type": "code",
   "execution_count": 1,
   "id": "6d08ed1f",
   "metadata": {},
   "outputs": [],
   "source": [
    "#Write a Python program to count the number of characters (character frequency) in a string.\n",
    "#input - google.com"
   ]
  },
  {
   "cell_type": "code",
   "execution_count": 2,
   "id": "9ede9031",
   "metadata": {},
   "outputs": [],
   "source": [
    "a = 'james'"
   ]
  },
  {
   "cell_type": "code",
   "execution_count": 3,
   "id": "179b8da5",
   "metadata": {},
   "outputs": [
    {
     "name": "stdout",
     "output_type": "stream",
     "text": [
      "j m s\n"
     ]
    }
   ],
   "source": [
    "print(a[0],a[2],a[4])"
   ]
  },
  {
   "cell_type": "code",
   "execution_count": 4,
   "id": "ae0e3fd8",
   "metadata": {},
   "outputs": [
    {
     "name": "stdout",
     "output_type": "stream",
     "text": [
      "5\n"
     ]
    }
   ],
   "source": [
    "print(len(a))"
   ]
  },
  {
   "cell_type": "code",
   "execution_count": null,
   "id": "48fd1c25",
   "metadata": {},
   "outputs": [],
   "source": [
    "a=input(\"first \")\n",
    "b=input('middle')\n",
    "c=input('last')"
   ]
  },
  {
   "cell_type": "code",
   "execution_count": null,
   "id": "85e24880",
   "metadata": {},
   "outputs": [],
   "source": [
    "print(c[::-1])"
   ]
  },
  {
   "cell_type": "code",
   "execution_count": null,
   "id": "8a4518c7",
   "metadata": {},
   "outputs": [],
   "source": [
    "b"
   ]
  },
  {
   "cell_type": "code",
   "execution_count": null,
   "id": "c534e24b",
   "metadata": {},
   "outputs": [],
   "source": [
    "c"
   ]
  },
  {
   "cell_type": "code",
   "execution_count": null,
   "id": "9c0a997b",
   "metadata": {},
   "outputs": [],
   "source": [
    "print(a[: : -1]+ \" \"+b[: : -1]+\" \" +c[: : -1])"
   ]
  },
  {
   "cell_type": "code",
   "execution_count": null,
   "id": "224c961c",
   "metadata": {},
   "outputs": [],
   "source": [
    "a"
   ]
  },
  {
   "cell_type": "code",
   "execution_count": null,
   "id": "1692ee14",
   "metadata": {},
   "outputs": [],
   "source": [
    "print(a[1:3])"
   ]
  },
  {
   "cell_type": "code",
   "execution_count": null,
   "id": "f8835fa2",
   "metadata": {},
   "outputs": [],
   "source": [
    "print(a.upper())"
   ]
  },
  {
   "cell_type": "code",
   "execution_count": null,
   "id": "1b19a068",
   "metadata": {},
   "outputs": [],
   "source": [
    "print(b.upper())"
   ]
  },
  {
   "cell_type": "code",
   "execution_count": null,
   "id": "4d2d87c3",
   "metadata": {},
   "outputs": [],
   "source": [
    "c"
   ]
  },
  {
   "cell_type": "code",
   "execution_count": null,
   "id": "93170705",
   "metadata": {},
   "outputs": [],
   "source": [
    "print(c.upper())"
   ]
  },
  {
   "cell_type": "code",
   "execution_count": null,
   "id": "d1037516",
   "metadata": {},
   "outputs": [],
   "source": [
    "print(b.replace('i','y').upper())"
   ]
  },
  {
   "cell_type": "code",
   "execution_count": null,
   "id": "f878bd82",
   "metadata": {},
   "outputs": [],
   "source": [
    "r=int(input(\"\"))"
   ]
  },
  {
   "cell_type": "code",
   "execution_count": null,
   "id": "9e8f15d1",
   "metadata": {},
   "outputs": [],
   "source": [
    "area = 3.14*(r**2)"
   ]
  },
  {
   "cell_type": "raw",
   "id": "d13149da",
   "metadata": {},
   "source": [
    "print(area)"
   ]
  },
  {
   "cell_type": "code",
   "execution_count": null,
   "id": "19cac013",
   "metadata": {},
   "outputs": [],
   "source": []
  }
 ],
 "metadata": {
  "kernelspec": {
   "display_name": "Python 3 (ipykernel)",
   "language": "python",
   "name": "python3"
  },
  "language_info": {
   "codemirror_mode": {
    "name": "ipython",
    "version": 3
   },
   "file_extension": ".py",
   "mimetype": "text/x-python",
   "name": "python",
   "nbconvert_exporter": "python",
   "pygments_lexer": "ipython3",
   "version": "3.9.13"
  }
 },
 "nbformat": 4,
 "nbformat_minor": 5
}
