{
 "cells": [
  {
   "cell_type": "markdown",
   "id": "3b08fdb6",
   "metadata": {},
   "source": [
    "I'm developing a grading system for a school, and I need to calculate the final grade based on a student's performance in different subjects. The grading scale is as follows:\n",
    "If the average score is 90 or above, the grade is 'A'.\n",
    "If the average score is between 80 and 89 (inclusive), the grade is 'B'.\n",
    "If the average score is between 70 and 79 (inclusive), the grade is 'C'.\n",
    "If the average score is between 60 and 69 (inclusive), the grade is 'D'.\n",
    "If the average score is below 60, the grade is 'F'.\n",
    "Write a Python program that takes input for the scores in four subjects and calculates the average score. Based on the average score, the program should determine and display the final grade for the student."
   ]
  },
  {
   "cell_type": "code",
   "execution_count": 1,
   "id": "99062c8b",
   "metadata": {},
   "outputs": [
    {
     "name": "stdout",
     "output_type": "stream",
     "text": [
      "Enter score for Subject 1: 85\n",
      "Enter score for Subject 2: 92\n",
      "Enter score for Subject 3: 77\n",
      "Enter score for Subject 4: 79\n",
      "Your final grade is: B\n"
     ]
    }
   ],
   "source": [
    "subject1 = int(input(\"Enter score for Subject 1: \"))\n",
    "subject2 = int(input(\"Enter score for Subject 2: \"))\n",
    "subject3 = int(input(\"Enter score for Subject 3: \"))\n",
    "subject4 = int(input(\"Enter score for Subject 4: \"))\n",
    "\n",
    "average_score = (subject1 + subject2 + subject3 + subject4) / 4\n",
    "\n",
    "if average_score >= 90:\n",
    "    final_grade = 'A'\n",
    "elif average_score >= 80:\n",
    "    final_grade = 'B'\n",
    "elif average_score >= 70:\n",
    "    final_grade = 'C'\n",
    "elif average_score >= 60:\n",
    "    final_grade = 'D'\n",
    "else:\n",
    "    final_grade = 'F'\n",
    "\n",
    "print(\"Your final grade is:\", final_grade)\n"
   ]
  },
  {
   "cell_type": "markdown",
   "id": "7325c9f7",
   "metadata": {},
   "source": [
    "#### Explanation"
   ]
  },
  {
   "cell_type": "markdown",
   "id": "04de3905",
   "metadata": {},
   "source": [
    "The code prompts the user to enter the score for each of the four subjects: subject1, subject2, subject3, and subject4. The input function is used to take user input, and the int function is used to convert the input to an integer.\n",
    "\n",
    "The average score is calculated by adding up the scores of all four subjects and dividing the sum by 4. The result is stored in the variable average score.\n",
    "\n",
    "The code uses conditional statements (if, elif, else) to determine the final grade based on the average score:\n",
    "\n",
    "If the average score is greater than or equal to 90, the final grade is set to 'A'.\n",
    "If the average score is between 80 and 89, the final grade is set to 'B'.\n",
    "If the average score is between 70 and 79, the final grade is set to 'C'.\n",
    "If the average score is between 60 and 69, the final grade is set to 'D'.\n",
    "If the average score is below 60, the final grade is set to 'F'.\n",
    "Finally, the code prints the final grade to the console using the print function.\n",
    "\n",
    "For example, if the user enters scores of 85, 92, 77, and 79 for the four subjects, the average score would be (85 + 92 + 77 + 79) / 4 = 83.25. Since 83.25 falls between 80 and 89, the final grade would be 'B'. The output would be: \"Your final grade is: B\"."
   ]
  }
 ],
 "metadata": {
  "kernelspec": {
   "display_name": "Python 3 (ipykernel)",
   "language": "python",
   "name": "python3"
  },
  "language_info": {
   "codemirror_mode": {
    "name": "ipython",
    "version": 3
   },
   "file_extension": ".py",
   "mimetype": "text/x-python",
   "name": "python",
   "nbconvert_exporter": "python",
   "pygments_lexer": "ipython3",
   "version": "3.10.9"
  }
 },
 "nbformat": 4,
 "nbformat_minor": 5
}
