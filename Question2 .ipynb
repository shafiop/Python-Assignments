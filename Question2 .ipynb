{
 "cells": [
  {
   "cell_type": "markdown",
   "id": "e656344c",
   "metadata": {},
   "source": [
    "I'm developing a ticketing system for a movie theater. The ticket prices are determined based on the age of the person and the time of the movie. The conditions for ticket pricing are as follows:\n",
    "If the person is under 12 years old, the ticket price is 50 Rupees.If the person is 12 years old or older, but under 18, the ticket price is 80 Rupees. If the person is 18 years old or older, and the movie is scheduled before 6 PM, the ticket price is 100 Rupees. If the person is 18 years old or older, and the movie is scheduled at or after 6 PM, the ticket price is 120 Rupees.\n",
    "Write a Python program that takes input for the age of the moviegoer and the scheduled time of the movie. Based on these inputs, the program should determine and display the ticket price."
   ]
  },
  {
   "cell_type": "code",
   "execution_count": 2,
   "id": "fdbee678",
   "metadata": {},
   "outputs": [
    {
     "name": "stdout",
     "output_type": "stream",
     "text": [
      "Enter your age: 17\n",
      "Enter the scheduled time of the movie (24-hour format): 19\n",
      "The ticket price is: 80\n"
     ]
    }
   ],
   "source": [
    "age = int(input(\"Enter your age: \"))\n",
    "scheduled_time = int(input(\"Enter the scheduled time of the movie (24-hour format): \"))\n",
    "\n",
    "if age < 12:\n",
    "    ticket_price = 50\n",
    "elif age < 18:\n",
    "    ticket_price = 80\n",
    "elif scheduled_time < 18:\n",
    "    ticket_price = 100\n",
    "else:\n",
    "    ticket_price = 120\n",
    "\n",
    "print(\"The ticket price is:\", ticket_price)\n"
   ]
  },
  {
   "cell_type": "markdown",
   "id": "3221645c",
   "metadata": {},
   "source": [
    "#### Explanation"
   ]
  },
  {
   "cell_type": "markdown",
   "id": "d4806729",
   "metadata": {},
   "source": [
    "The program asks the user to enter their age using the input() function and converts the input to an integer using int() function. The value is stored in the age variable.\n",
    "\n",
    "Next, the program asks the user to enter the scheduled time of the movie in 24-hour format. Again, the input is converted to an integer and stored in the scheduled_time variable.\n",
    "\n",
    "The code then enters an if-elif-else statement to determine the ticket price based on the provided inputs.\n",
    "\n",
    "The first condition if age < 12: checks if the age is less than 12. If it is true, the ticket price is set to 50.\n",
    "\n",
    "If the first condition is not met, the program checks the next condition elif age < 18: which checks if the age is less than 18. If true, the ticket price is set to 80.\n",
    "\n",
    "If neither the first nor the second condition is met, the program moves to the next condition elif scheduled_time < 18: which checks if the scheduled time of the movie is less than 18 (6:00 PM in 24-hour format). If true, the ticket price is set to 100.\n",
    "\n",
    "If none of the previous conditions are met, the program reaches the else statement, which means the age is 18 or above and the scheduled time is 18 or later. In this case, the ticket price is set to 120.\n",
    "\n",
    "Finally, the program prints the determined ticket price using the print() function, along with the message \"The ticket price is:\".\n",
    "\n",
    "So, based on the user's age and the scheduled time of the movie, the program calculates and displays the appropriate ticket price."
   ]
  },
  {
   "cell_type": "code",
   "execution_count": null,
   "id": "72114c61",
   "metadata": {},
   "outputs": [],
   "source": []
  }
 ],
 "metadata": {
  "kernelspec": {
   "display_name": "Python 3 (ipykernel)",
   "language": "python",
   "name": "python3"
  },
  "language_info": {
   "codemirror_mode": {
    "name": "ipython",
    "version": 3
   },
   "file_extension": ".py",
   "mimetype": "text/x-python",
   "name": "python",
   "nbconvert_exporter": "python",
   "pygments_lexer": "ipython3",
   "version": "3.10.9"
  }
 },
 "nbformat": 4,
 "nbformat_minor": 5
}
